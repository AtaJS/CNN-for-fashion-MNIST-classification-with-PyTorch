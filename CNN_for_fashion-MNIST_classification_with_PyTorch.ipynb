{
  "cells": [
    {
      "cell_type": "markdown",
      "metadata": {
        "id": "CdEjspbyo2nr"
      },
      "source": [
        "# Building and Training CNNs for Image Classification"
      ]
    },
    {
      "cell_type": "markdown",
      "metadata": {
        "id": "7s3S5iSMo2nw"
      },
      "source": [
        "## Project Outline\n",
        "#### This project covers:\n",
        "* Crafting a custom dataset in PyTorch for training, validation, and testing purposes.\n",
        "* Constructing a Convolutional Neural Network (CNN) using PyTorch.\n",
        "* Training and evaluating your CNN within the PyTorch framework."
      ]
    },
    {
      "cell_type": "markdown",
      "metadata": {
        "id": "7qlh4RVyo2nz"
      },
      "source": [
        "## Stage 1. Writing a Custom Dataset for Fashion-MNIST"
      ]
    },
    {
      "cell_type": "markdown",
      "metadata": {
        "id": "4RJSGiROo2n0"
      },
      "source": [
        "### Part 1.1. Define a Dataset Class\n",
        "Here, we define a custom dataset by extending the PyTorch [Dataset](https://pytorch.org/tutorials/beginner/basics/data_tutorial.html) class. This allows for flexible data handling and integration with PyTorch's data loading utilities."
      ]
    },
    {
      "cell_type": "code",
      "execution_count": 11,
      "metadata": {
        "id": "yGT36nyMo2n0",
        "outputId": "ff0c149e-1325-4acc-9967-a9a90db8111c",
        "colab": {
          "base_uri": "https://localhost:8080/"
        }
      },
      "outputs": [
        {
          "output_type": "stream",
          "name": "stdout",
          "text": [
            "Requirement already satisfied: onedrivedownloader in /usr/local/lib/python3.11/dist-packages (1.1.3)\n",
            "Requirement already satisfied: requests in /usr/local/lib/python3.11/dist-packages (from onedrivedownloader) (2.32.3)\n",
            "Requirement already satisfied: tqdm in /usr/local/lib/python3.11/dist-packages (from onedrivedownloader) (4.67.1)\n",
            "Requirement already satisfied: charset-normalizer<4,>=2 in /usr/local/lib/python3.11/dist-packages (from requests->onedrivedownloader) (3.4.1)\n",
            "Requirement already satisfied: idna<4,>=2.5 in /usr/local/lib/python3.11/dist-packages (from requests->onedrivedownloader) (3.10)\n",
            "Requirement already satisfied: urllib3<3,>=1.21.1 in /usr/local/lib/python3.11/dist-packages (from requests->onedrivedownloader) (2.3.0)\n",
            "Requirement already satisfied: certifi>=2017.4.17 in /usr/local/lib/python3.11/dist-packages (from requests->onedrivedownloader) (2025.1.31)\n"
          ]
        }
      ],
      "source": [
        "!pip install onedrivedownloader"
      ]
    },
    {
      "cell_type": "code",
      "execution_count": 12,
      "metadata": {
        "id": "UcVZpkwgo2n2",
        "outputId": "d52ff03d-ec9f-40ed-d72d-097d8a15f115",
        "colab": {
          "base_uri": "https://localhost:8080/"
        }
      },
      "outputs": [
        {
          "output_type": "stream",
          "name": "stdout",
          "text": [
            "Downloading dataset\n"
          ]
        },
        {
          "output_type": "stream",
          "name": "stderr",
          "text": [
            "\n",
            "  0%|          | 0.00/30.6M [00:00<?, ?iB/s]\u001b[A\n",
            "  0%|          | 12.3k/30.6M [00:00<05:12, 98.1kiB/s]\u001b[A\n",
            "  0%|          | 61.4k/30.6M [00:00<01:55, 265kiB/s] \u001b[A\n",
            "  0%|          | 143k/30.6M [00:00<01:42, 297kiB/s] \u001b[A\n",
            "  1%|          | 274k/30.6M [00:00<00:58, 519kiB/s]\u001b[A\n",
            "  2%|▏         | 537k/30.6M [00:00<00:30, 981kiB/s]\u001b[A\n",
            "  3%|▎         | 799k/30.6M [00:01<00:37, 805kiB/s]\u001b[A\n",
            "  6%|▌         | 1.72M/30.6M [00:01<00:16, 1.76MiB/s]\u001b[A\n",
            "  9%|▊         | 2.63M/30.6M [00:01<00:09, 2.82MiB/s]\u001b[A\n",
            " 12%|█▏        | 3.55M/30.6M [00:01<00:07, 3.76MiB/s]\u001b[A\n",
            " 15%|█▍        | 4.47M/30.6M [00:01<00:05, 4.56MiB/s]\u001b[A\n",
            " 18%|█▊        | 5.39M/30.6M [00:01<00:04, 5.21MiB/s]\u001b[A\n",
            " 21%|██        | 6.30M/30.6M [00:02<00:04, 5.72MiB/s]\u001b[A\n",
            " 27%|██▋       | 8.14M/30.6M [00:02<00:02, 8.05MiB/s]\u001b[A\n",
            " 33%|███▎      | 9.97M/30.6M [00:02<00:02, 9.77MiB/s]\u001b[A\n",
            " 39%|███▊      | 11.8M/30.6M [00:02<00:01, 11.0MiB/s]\u001b[A\n",
            " 45%|████▍     | 13.6M/30.6M [00:02<00:01, 11.9MiB/s]\u001b[A\n",
            " 54%|█████▎    | 16.4M/30.6M [00:02<00:00, 14.7MiB/s]\u001b[A\n",
            " 58%|█████▊    | 17.9M/30.6M [00:02<00:01, 12.7MiB/s]\u001b[A\n",
            " 72%|███████▏  | 21.9M/30.6M [00:03<00:00, 17.8MiB/s]\u001b[A\n",
            " 83%|████████▎ | 25.6M/30.6M [00:03<00:00, 20.8MiB/s]\u001b[A\n",
            "100%|██████████| 30.6M/30.6M [00:03<00:00, 9.30MiB/s]\n"
          ]
        },
        {
          "output_type": "stream",
          "name": "stdout",
          "text": [
            "Unzipping file...\n"
          ]
        },
        {
          "output_type": "stream",
          "name": "stderr",
          "text": [
            "\n",
            "Extracting files:   0%|          | 0/4 [00:00<?, ?it/s]\u001b[A\n",
            "Extracting files: 100%|██████████| 4/4 [00:00<00:00, 11.60it/s]\n"
          ]
        }
      ],
      "source": [
        "from onedrivedownloader import download\n",
        "import os\n",
        "link = 'https://unioulu-my.sharepoint.com/:u:/g/personal/sjodeiri24_student_oulu_fi/ERSM9H9tfKFAukfqZl6E1UABUthgXNMgxmt7rLOcEejXCg?e=bwILXC'\n",
        "\n",
        "if not os.path.exists('./data/fashion_mnist_npy'):\n",
        "    print('Downloading dataset')\n",
        "    download(link, filename=\"./fashion_mnist_npy\", unzip=True, unzip_path='./data/fashion_mnist_npy')"
      ]
    },
    {
      "cell_type": "code",
      "execution_count": 13,
      "metadata": {
        "id": "ALsxtzrCo2n3",
        "colab": {
          "base_uri": "https://localhost:8080/"
        },
        "outputId": "70745069-c69e-43a9-a026-da26ae213fd8"
      },
      "outputs": [
        {
          "output_type": "stream",
          "name": "stdout",
          "text": [
            "60000\n"
          ]
        }
      ],
      "source": [
        "# import necessary packages\n",
        "import os\n",
        "import torch\n",
        "import requests, zipfile, sys\n",
        "import numpy as np\n",
        "import matplotlib.pyplot as plt\n",
        "from torch.utils.data import Dataset, DataLoader\n",
        "import torchvision\n",
        "from PIL import Image\n",
        "import torch\n",
        "import torch.nn as nn\n",
        "import torch.nn.functional as F\n",
        "import torch.optim as optim\n",
        "from torchvision import transforms\n",
        "\n",
        "\n",
        "# fashion_MNIST dataset\n",
        "data_dir='./data/fashion_mnist_npy/'\n",
        "train_data = np.load(os.path.join(data_dir, 'train_data.npy'))\n",
        "test_data = np.load(os.path.join(data_dir, 'test_data.npy'))\n",
        "train_label = np.load(os.path.join(data_dir, 'train_labels.npy'))\n",
        "test_label = np.load(os.path.join(data_dir, 'test_labels.npy'))\n",
        "\n",
        "print(len(train_label))\n",
        "# split the training data to a new training data and validation data\n",
        "class_indices = [[] for i in range(10)]\n",
        "for i, v in enumerate(train_label):\n",
        "    class_indices[v].append(i)\n",
        "\n",
        "indices_all = np.random.permutation(len(class_indices[0]))\n",
        "# take the first 1000 indices of indices_all\n",
        "indices = indices_all[:1000]\n",
        "# take the rest of the indices of indices_all\n",
        "indices_rest = indices_all[1000:]\n",
        "\n",
        "valid_indices = []\n",
        "train_indices = []\n",
        "for i in range(10):\n",
        "    # build indices for validation set\n",
        "    valid_indices.extend(np.array(class_indices[i])[indices])\n",
        "    train_indices.extend(np.array(class_indices[i])[indices_rest])\n",
        "# write the custom dataset based on the dataset\n",
        "class FashionMnist(Dataset):\n",
        "    \"\"\"Fashion Mnist dataset\"\"\"\n",
        "\n",
        "    def __init__(self, phase='train', transform=None):\n",
        "\n",
        "        if 'train' == phase:\n",
        "            self.data = train_data[train_indices]\n",
        "            self.label = train_label[train_indices]\n",
        "\n",
        "        elif 'valid' == phase:\n",
        "            self.data = train_data[valid_indices]\n",
        "            self.label = train_label[valid_indices]\n",
        "\n",
        "        elif 'test' == phase:\n",
        "            self.data = test_data\n",
        "            self.label = test_label\n",
        "\n",
        "        else:\n",
        "            assert True, 'wrong phase'\n",
        "\n",
        "\n",
        "        self.transform = transform\n",
        "        self.label_names = ['T-shirt/top', 'Trouser', 'Pullover', 'Dress', 'Coat', 'Sandal','Shirt','Sneaker','Bag','Ankle boot']\n",
        "\n",
        "    def __len__(self):\n",
        "        return len(self.data)\n",
        "\n",
        "    def __getitem__(self, index):\n",
        "\n",
        "        img, label = self.data[index], self.label[index]\n",
        "        # to return a PIL Image\n",
        "        img = Image.fromarray(img, mode='L')\n",
        "\n",
        "        if self.transform is not None:\n",
        "            img = self.transform(img)\n",
        "\n",
        "        return img, label\n"
      ]
    },
    {
      "cell_type": "markdown",
      "metadata": {
        "id": "YTjl_e0Bo2n4"
      },
      "source": [
        "### Part 1.2. Dataset Inspection\n",
        "This step involves verifying the dataset's integrity. First, we display a random selection of images from the training, validation, and testing sets to visually confirm the correctness of labels. Secondly, we examine the class distribution within each dataset split to ensure balanced representation."
      ]
    },
    {
      "cell_type": "code",
      "execution_count": 14,
      "metadata": {
        "id": "6K5j_mVUo2n4",
        "colab": {
          "base_uri": "https://localhost:8080/",
          "height": 507
        },
        "outputId": "b029bc71-4f84-4198-940f-d6ad206e7f17"
      },
      "outputs": [
        {
          "output_type": "display_data",
          "data": {
            "text/plain": [
              "<Figure size 1600x800 with 5 Axes>"
            ],
            "image/png": "[encoded data removed]"
          },
          "metadata": {}
        },
        {
          "output_type": "stream",
          "name": "stdout",
          "text": [
            "total number of training set: 50000\n",
            "numer of images for class T-shirt/top: 5000\n",
            "numer of images for class Trouser: 5000\n",
            "numer of images for class Pullover: 5000\n",
            "numer of images for class Dress: 5000\n",
            "numer of images for class Coat: 5000\n",
            "numer of images for class Sandal: 5000\n",
            "numer of images for class Shirt: 5000\n",
            "numer of images for class Sneaker: 5000\n",
            "numer of images for class Bag: 5000\n",
            "numer of images for class Ankle boot: 5000\n"
          ]
        }
      ],
      "source": [
        "# checking training set\n",
        "# randomly show some samples and their labels\n",
        "train_set = FashionMnist(phase='train', transform=None)\n",
        "\n",
        "num_to_show = 5\n",
        "idx = np.random.choice(range(len(train_set)), num_to_show, replace=False)\n",
        "\n",
        "fig = plt.figure(figsize=(16, 8))\n",
        "\n",
        "for i in range(len(idx)):\n",
        "    image, label = train_set[idx[i]]\n",
        "    label_name = train_set.label_names[label]\n",
        "\n",
        "    ax = plt.subplot(1, num_to_show, i + 1)\n",
        "    plt.tight_layout()\n",
        "    ax.set_title('class #{}'.format(label_name))\n",
        "    ax.axis('off')\n",
        "    plt.imshow(np.asarray(image))\n",
        "\n",
        "plt.show()\n",
        "\n",
        "# print number of images for each class\n",
        "print('total number of training set: {}'.format(len(train_set)))\n",
        "for i in range(10):\n",
        "    print('numer of images for class {}: {}'.format(train_set.label_names[i], np.sum(train_set.label==i)))"
      ]
    },
    {
      "cell_type": "code",
      "execution_count": 15,
      "metadata": {
        "id": "ZOtqHu2So2n5",
        "colab": {
          "base_uri": "https://localhost:8080/",
          "height": 421
        },
        "outputId": "a6621641-8f73-49cf-9501-9c0c4744cbd3"
      },
      "outputs": [
        {
          "output_type": "display_data",
          "data": {
            "text/plain": [
              "<Figure size 1600x800 with 5 Axes>"
            ],
            "image/png": "[encoded data removed]"
          },
          "metadata": {}
        },
        {
          "output_type": "stream",
          "name": "stdout",
          "text": [
            "total number of validation set: 10000\n",
            "numer of images for class T-shirt/top: 1000\n",
            "numer of images for class Trouser: 1000\n",
            "numer of images for class Pullover: 1000\n",
            "numer of images for class Dress: 1000\n",
            "numer of images for class Coat: 1000\n"
          ]
        }
      ],
      "source": [
        "# checking validation data\n",
        "validation_set = FashionMnist(phase='valid', transform=None)\n",
        "\n",
        "num_to_show = 5\n",
        "idx = np.random.choice(range(len(validation_set)), num_to_show, replace=False)\n",
        "\n",
        "fig = plt.figure(figsize=(16, 8))\n",
        "\n",
        "for i in range(len(idx)):\n",
        "    image, label = validation_set[idx[i]]\n",
        "    label_name = validation_set.label_names[label]\n",
        "\n",
        "    ax = plt.subplot(1, num_to_show, i + 1)\n",
        "    plt.tight_layout()\n",
        "    ax.set_title('class #{}'.format(label_name))\n",
        "    ax.axis('off')\n",
        "    plt.imshow(np.asarray(image))\n",
        "\n",
        "plt.show()\n",
        "\n",
        "print('total number of validation set: {}'.format(len(validation_set)))\n",
        "for i in range(5):\n",
        "    print('numer of images for class {}: {}'.format(validation_set.label_names[i], np.sum(validation_set.label==i)))"
      ]
    },
    {
      "cell_type": "code",
      "execution_count": 16,
      "metadata": {
        "id": "9ysTO770o2n6",
        "colab": {
          "base_uri": "https://localhost:8080/",
          "height": 507
        },
        "outputId": "b81c991e-74a8-4442-8965-8ebfab5faff9"
      },
      "outputs": [
        {
          "output_type": "display_data",
          "data": {
            "text/plain": [
              "<Figure size 1600x800 with 5 Axes>"
            ],
            "image/png": "[encoded data removed]"
          },
          "metadata": {}
        },
        {
          "output_type": "stream",
          "name": "stdout",
          "text": [
            "total number of testing set: 10000\n",
            "numer of images for class T-shirt/top: 1000\n",
            "numer of images for class Trouser: 1000\n",
            "numer of images for class Pullover: 1000\n",
            "numer of images for class Dress: 1000\n",
            "numer of images for class Coat: 1000\n",
            "numer of images for class Sandal: 1000\n",
            "numer of images for class Shirt: 1000\n",
            "numer of images for class Sneaker: 1000\n",
            "numer of images for class Bag: 1000\n",
            "numer of images for class Ankle boot: 1000\n"
          ]
        }
      ],
      "source": [
        "# checking testing data\n",
        "testing_set = FashionMnist(phase='test', transform=None)\n",
        "\n",
        "num_to_show = 5\n",
        "idx = np.random.choice(range(len(testing_set)), num_to_show, replace=False)\n",
        "\n",
        "fig = plt.figure(figsize=(16, 8))\n",
        "\n",
        "for i in range(len(idx)):\n",
        "    image, label = testing_set[idx[i]]\n",
        "    label_name = testing_set.label_names[label]\n",
        "\n",
        "    ax = plt.subplot(1, num_to_show, i + 1)\n",
        "    plt.tight_layout()\n",
        "    ax.set_title('class #{}'.format(label_name))\n",
        "    ax.axis('off')\n",
        "    plt.imshow(np.asarray(image))\n",
        "\n",
        "plt.show()\n",
        "\n",
        "print('total number of testing set: {}'.format(len(testing_set)))\n",
        "for i in range(10):\n",
        "    print('numer of images for class {}: {}'.format(testing_set.label_names[i], np.sum(testing_set.label==i)))\n"
      ]
    },
    {
      "cell_type": "markdown",
      "metadata": {
        "id": "V7bWJmaXo2n7"
      },
      "source": [
        "### Part 1.3. Dataset Iteration with Batches\n",
        "To optimize training, we use PyTorch's [DataLoader](https://pytorch.org/tutorials/beginner/data_loading_tutorial.html#iterating-through-the-dataset) for efficient data handling. `DataLoader` provides:\n",
        "* Data batching for parallel processing.\n",
        "* Data shuffling to improve training generalization.\n",
        "* Parallel data loading using multiprocessing workers for faster input pipeline.\n",
        "\n",
        "`torch.utils.data.DataLoader` efficiently manages dataset iteration.  A `FashionMnist` dataset instance from Part 1.1 is input to `DataLoader`.  A `transform` is used to convert PIL images to torch.Tensor format.  `transform` can also be used for data augmentation, further illustrated in [https://pytorch.org/tutorials/beginner/data_loading_tutorial.html#writing-custom-datasets-dataloaders-and-transforms](https://pytorch.org/tutorials/beginner/data_loading_tutorial.html#writing-custom-datasets-dataloaders-and-transforms)."
      ]
    },
    {
      "cell_type": "code",
      "execution_count": 17,
      "metadata": {
        "id": "rJpV-V3So2n7"
      },
      "outputs": [],
      "source": [
        "# Set batch_size to 64, shuffling the training set.\n",
        "data_transform = transforms.Compose([transforms.ToTensor()])\n",
        "\n",
        "train_set = FashionMnist(phase='train', transform=data_transform)\n",
        "train_loader = DataLoader(train_set, batch_size=64, shuffle=True, num_workers=0)\n",
        "\n",
        "valid_set = FashionMnist(phase='valid', transform=data_transform)\n",
        "valid_loader = DataLoader(valid_set, batch_size=64, shuffle=False, num_workers=0)\n",
        "\n",
        "test_set = FashionMnist(phase='test', transform=data_transform)\n",
        "test_loader = DataLoader(test_set, batch_size=64, shuffle=False, num_workers=0)"
      ]
    },
    {
      "cell_type": "markdown",
      "metadata": {
        "id": "Z_YfSz-go2n8"
      },
      "source": [
        "## Part 2. Constructing a CNN Model\n",
        "This section details the construction of a Convolutional Neural Network (CNN). The CNN architecture includes convolutional layers (Conv), Batch Normalization layers (BN), max pooling layers (Max_pool), and fully connected layers (FC). The model is designed to process input batches of size 64.\n",
        "<!--![model.png](attachment:model.png)-->\n",
        "<img src=https://raw.githubusercontent.com/marukosan93/DL2024_resources/refs/heads/master/CNN.png width=\"800\">"
      ]
    },
    {
      "cell_type": "markdown",
      "metadata": {
        "id": "jTwHUbNOo2n8"
      },
      "source": [
        "When defining a custom Network in PyTorch, follow these guidelines:\n",
        "1. Layer definitions are placed within the `__init__` method.\n",
        "2. The `forward` method contains the forward pass computation."
      ]
    },
    {
      "cell_type": "code",
      "execution_count": 18,
      "metadata": {
        "id": "mVG4uQTRo2n9"
      },
      "outputs": [],
      "source": [
        "import torch\n",
        "import torch.nn as nn\n",
        "\n",
        "class Network(nn.Module):\n",
        "    def __init__(self, num_classes):\n",
        "        super().__init__()\n",
        "        self.conv1 = nn.Conv2d(1, 32, kernel_size=3)\n",
        "        self.bn1 = nn.BatchNorm2d(32)\n",
        "        self.relu1 = nn.ReLU()\n",
        "        self.pool = nn.MaxPool2d(kernel_size=2, stride=2)\n",
        "\n",
        "        self.conv2 = nn.Conv2d(32, 64, kernel_size=3, padding=0)\n",
        "        self.bn2 = nn.BatchNorm2d(64)\n",
        "        self.relu2 = nn.ReLU()\n",
        "        self.pool2 = nn.MaxPool2d(kernel_size=2, stride=2)\n",
        "        self.flatten = nn.Flatten()\n",
        "\n",
        "        self.fc1 = nn.Linear(64 * 5 * 5, 128)\n",
        "        self.relu3 = nn.ReLU()\n",
        "        self.fc2 = nn.Linear(128, num_classes)\n",
        "\n",
        "    def forward(self, x):\n",
        "        x = self.conv1(x)\n",
        "        x = self.bn1(x)\n",
        "        x = self.relu1(x)\n",
        "        x = self.pool(x)\n",
        "\n",
        "        x = self.conv2(x)\n",
        "        x = self.bn2(x)\n",
        "        x = self.relu2(x)\n",
        "        x = self.pool2(x)\n",
        "\n",
        "        x = x.view(-1, 64 * 5 * 5)\n",
        "\n",
        "        x = self.fc1(x)\n",
        "        x = self.relu3(x)\n",
        "        x = self.fc2(x)\n",
        "        return x\n"
      ]
    },
    {
      "cell_type": "markdown",
      "metadata": {
        "id": "qsQss7Boo2n9"
      },
      "source": [
        "## Part 3. CNN Model Training and Testing\n",
        "### Part 3.1. Define Training and Evaluation Functions\n",
        "This section establishes functions for training and evaluating the CNN model.\n",
        "* A network instance is initialized.\n",
        "* During training, an optimizer is set up to manage network parameters, loss computation, and accuracy calculation.\n",
        "* During evaluation, only accuracy calculation is performed."
      ]
    },
    {
      "cell_type": "code",
      "execution_count": 19,
      "metadata": {
        "id": "qESu_nbeo2n9"
      },
      "outputs": [],
      "source": [
        "# instantiate a network\n",
        "net = Network(num_classes=10)\n",
        "\n",
        "# evaluation function\n",
        "def eval(net, data_loader):\n",
        "    use_cuda = torch.cuda.is_available()\n",
        "    if use_cuda:\n",
        "        net = net.cuda()\n",
        "    net.eval()\n",
        "    correct = 0.0\n",
        "    num_images = 0.0\n",
        "    for i_batch, (images, labels) in enumerate(data_loader):\n",
        "        if use_cuda:\n",
        "            images = images.cuda()\n",
        "            labels = labels.cuda()\n",
        "        outs = net(images)\n",
        "        preds = outs.argmax(dim=1)\n",
        "        correct += preds.eq(labels).sum()\n",
        "        num_images += len(labels)\n",
        "\n",
        "    acc = correct / num_images\n",
        "    return acc\n",
        "\n",
        "# training function\n",
        "def train(net, train_loader, valid_loader):\n",
        "    loss_function = torch.nn.CrossEntropyLoss()\n",
        "    optimizer = torch.optim.SGD(net.parameters(), lr=0.01, momentum=0.9, weight_decay=0.0)\n",
        "\n",
        "    use_cuda = torch.cuda.is_available()\n",
        "    if use_cuda:\n",
        "        net = net.cuda()\n",
        "\n",
        "    epoches = 10\n",
        "    for epoch in range(epoches):\n",
        "        net.train()\n",
        "        correct = 0.0\n",
        "        num_images = 0.0\n",
        "        for i_batch, (images, labels) in enumerate(train_loader):\n",
        "            if use_cuda:\n",
        "                images = images.cuda()\n",
        "                labels = labels.cuda()\n",
        "            outs = net(images)\n",
        "            loss = loss_function(outs, labels)\n",
        "            optimizer.zero_grad()\n",
        "            loss.backward()\n",
        "            optimizer.step()\n",
        "            preds = outs.argmax(dim=1)\n",
        "            correct += preds.eq(labels).sum().item()\n",
        "            num_images += len(labels)\n",
        "\n",
        "        acc = correct / num_images\n",
        "        acc_eval = eval(net, valid_loader)\n",
        "        print('epoch: %d, lr: %f, accuracy: %f, loss: %f, valid accuracy: %f' % (epoch, optimizer.param_groups[0]['lr'], acc, loss.item(), acc_eval))\n",
        "\n",
        "    return net"
      ]
    },
    {
      "cell_type": "markdown",
      "metadata": {
        "id": "fUknLqBDo2n-"
      },
      "source": [
        "### Part 3.2. Model Training and Performance Evaluation"
      ]
    },
    {
      "cell_type": "code",
      "execution_count": 20,
      "metadata": {
        "id": "ugHGulXio2n_",
        "scrolled": true,
        "colab": {
          "base_uri": "https://localhost:8080/"
        },
        "outputId": "b6aee9f0-046a-466e-de84-06b166bea0cf"
      },
      "outputs": [
        {
          "output_type": "stream",
          "name": "stdout",
          "text": [
            "Please wait patiently, it may take some seconds...\n",
            "epoch: 0, lr: 0.010000, accuracy: 0.841140, loss: 0.261318, valid accuracy: 0.875300\n",
            "epoch: 1, lr: 0.010000, accuracy: 0.888000, loss: 0.151109, valid accuracy: 0.892800\n",
            "epoch: 2, lr: 0.010000, accuracy: 0.903420, loss: 0.123861, valid accuracy: 0.890000\n",
            "epoch: 3, lr: 0.010000, accuracy: 0.914300, loss: 0.088664, valid accuracy: 0.901600\n",
            "epoch: 4, lr: 0.010000, accuracy: 0.922920, loss: 0.347979, valid accuracy: 0.908300\n",
            "epoch: 5, lr: 0.010000, accuracy: 0.928780, loss: 0.106026, valid accuracy: 0.902200\n",
            "epoch: 6, lr: 0.010000, accuracy: 0.936920, loss: 0.115722, valid accuracy: 0.907200\n",
            "epoch: 7, lr: 0.010000, accuracy: 0.941820, loss: 0.342238, valid accuracy: 0.911900\n",
            "epoch: 8, lr: 0.010000, accuracy: 0.946880, loss: 0.129164, valid accuracy: 0.912600\n",
            "epoch: 9, lr: 0.010000, accuracy: 0.953140, loss: 0.019888, valid accuracy: 0.908100\n",
            "accuracy on testing data: 0.902400\n"
          ]
        }
      ],
      "source": [
        "print('Please wait patiently, it may take some seconds...')\n",
        "TrainedNet=train(net, train_loader, valid_loader)\n",
        "test_loader = DataLoader(test_set, batch_size=64, shuffle=False, num_workers=0)\n",
        "acc_test = eval(TrainedNet, test_loader)\n",
        "\n",
        "print('accuracy on testing data: %f' % acc_test)"
      ]
    }
  ],
  "metadata": {
    "colab": {
      "provenance": [],
      "gpuType": "T4"
    },
    "kernelspec": {
      "display_name": "Python 3",
      "name": "python3"
    },
    "language_info": {
      "codemirror_mode": {
        "name": "ipython",
        "version": 3
      },
      "file_extension": ".py",
      "mimetype": "text/x-python",
      "name": "python",
      "nbconvert_exporter": "python",
      "pygments_lexer": "ipython3",
      "version": "3.10.9"
    },
    "pycharm": {
      "stem_cell": {
        "cell_type": "raw",
        "metadata": {
          "collapsed": false
        },
        "source": []
      }
    },
    "accelerator": "GPU"
  },
  "nbformat": 4,
  "nbformat_minor": 0
}